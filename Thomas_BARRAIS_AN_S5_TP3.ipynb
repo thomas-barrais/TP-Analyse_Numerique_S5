{
 "cells":[
  {
   "cell_type":"markdown",
   "source":[
    "<!DOCTYPE html>\n",
    "<html lang=\"fr\">\n",
    "    <head>\n",
    "        <meta charset=\"UTF-8\">\n",
    "        <title> Mon premier site web <\/title>\n",
    "    <\/head>\n",
    "    <body>\n",
    "        <H1 align='center'> Exercice 1 <\/H1>\n",
    "        <h1  ALIGN=\"CENTER\"> François Dupont<\/h1>\n",
    "        <HR SIZE=5 ALIGN=\"CENTER\" COLOR=\"black\"> \n",
    "        <h2><BR>Mes coordonnées<\/h2>\n",
    "        <p>François Dupont<BR>SI-DGR<BR>EPFL<BR>CH - 1015 Lausanne<\/p>\n",
    "        <HR WIDTH=\"50% \"SIZE=5 ALIGN=\"CENTER\" COLOR=\"black\">\n",
    "        <h2><BR>Mon curriculum vitae<\/h2>\n",
    "        <p>J'ai fréquenté l'école primaire de Placibo de Bel Air<BR>J'ai suivis ensuite une prépa scientifique<\/p>\n",
    "        <HR WIDTH=\"50% \"SIZE=5 ALIGN=\"CENTER\" COLOR=\"black\">\n",
    "        <h2><BR>Mes hobbies<\/h2>\n",
    "        <p>Le sport<BR>La magie<\/p>\n",
    "        <HR SIZE=5 ALIGN=\"CENTER\" COLOR=\"black\"> \n",
    "        <p><i>François Dupont \/ révision \/ 21\/10\/2022<\/i><\/p>\n",
    "    <\/body>\n",
    "    <\/html>\n"
   ],
   "attachments":{
    
   },
   "metadata":{
    "datalore":{
     "node_id":"Gsds5Na0iBRFuvrGT3a4Xs",
     "type":"MD",
     "hide_input_from_viewers":true,
     "hide_output_from_viewers":true
    }
   }
  },
  {
   "cell_type":"markdown",
   "source":[
    "<H1 align='center'> Exercice 2 <\/H1>\n",
    "<p> Combinaison de listes numérotée et à puce <\/p>\n",
    "\n",
    "<OL>\n",
    "<li> Ecole primaire : <\/li>\n",
    "    <ul> \n",
    "    <li> 1ère : Yveron <\/li>\n",
    "    <li> 2e-3e : Echallens <\/li>\n",
    "    <\/ul>\n",
    "<li> Ecole secondaire : <\/li>\n",
    "    <ul style=\"list-style:circle;\">\n",
    "    <li> 1ère-3e : Echallens <\/li>\n",
    "    <li> 4e-6e scient. : Lausanne, Béthusy <\/li>\n",
    "    <\/ul>\n",
    "<li> Gymnase : <\/li>\n",
    "    <ul style=\"list-style:square;\">\n",
    "    <li> Lausanne, La cité <\/li>\n",
    "    <\/ul>\n",
    "<li> Université : <\/li>\n",
    "    <ul style=\"list-style:square;\">  \n",
    "    <li> Lausanne, faculté, Physique <\/li>\n",
    "    <\/ul>\n",
    "<\/OL>\n",
    "\n",
    "<p> Liste descriptive <\/p>\n",
    "<dl> \n",
    "<dt> <B> 1990 <\/B> <br> Certificat de fin d'études secondaires <br><br> <\/dt>\n",
    "<dt> <B> 1993 <\/B> <br> Maturité scientifique <br><br> <\/dt>\n",
    "<dt> <B> 1998 <\/B> <br> Licence en physique. Travail de mémoire réalisé dans le domaine des capteurs... <\/dt>\n",
    "<\/dl>\n"
   ],
   "attachments":{
    
   },
   "metadata":{
    "datalore":{
     "node_id":"fbJ4mBLI9jUcsKpPTyNPTO",
     "type":"MD",
     "hide_input_from_viewers":true,
     "hide_output_from_viewers":true
    }
   }
  },
  {
   "cell_type":"markdown",
   "source":[
    "<h1 ALIGN=\"CENTER\"> Exercice 3 <BR><BR><\/h1>\n",
    "<p><B>X<SUB>2<\/SUB> =<\/B> X<SUB>1<\/SUB> cos(α) - Y<SUB>1<\/SUB> sin(β)<BR><B>Y<SUB>2<\/SUB> = <\/B>X<SUB>1<\/SUB> sin(<i>α<\/i>) + Y<SUB>1<\/SUB> cos(<i>β<\/i>)"
   ],
   "attachments":{
    
   },
   "metadata":{
    "datalore":{
     "node_id":"aCGT9tfKfLvMD3FqgcAbY9",
     "type":"MD",
     "hide_input_from_viewers":true,
     "hide_output_from_viewers":true
    }
   }
  },
  {
   "cell_type":"markdown",
   "source":[
    "<!DOCTYPE html>\n",
    "<html lang=\"fr\">\n",
    "    <head>\n",
    "        <meta charset=\"UTF-8\">\n",
    "        <title> Mon premier site web <\/title>\n",
    "    <\/head>\n",
    "    <body>\n",
    "        <H1 align='center'> Exercice 4 <\/H1>\n",
    "        <h1  ALIGN=\"CENTER\"> François Dupont<\/h1>\n",
    "        <A HREF=\"#Coordonnées\"> Mes coordonnées <\/A> <BR>\n",
    "        <A HREF=\"#CV\"> Mon curriculum vitae <\/A> <BR>\n",
    "        <A HREF=\"#Hoobies\"> Mes hoobies <\/A> <BR>\n",
    "        <HR SIZE=5 ALIGN=\"CENTER\" COLOR=\"black\"> \n",
    "        <h2 ID=\"Coordonnées\"><BR>Mes coordonnées<\/h2>\n",
    "        <p>François Dupont<BR>SI-DGR<BR>EPFL<BR>CH - 1015 Lausanne<\/p>\n",
    "        <HR WIDTH=\"50% \"SIZE=5 ALIGN=\"CENTER\" COLOR=\"black\">\n",
    "        <h2 ID=\"CV\"><BR>Mon curriculum vitae<\/h3>\n",
    "        <p>J'ai fréquenté l'école primaire de Placibo de Bel Air<BR>J'ai suivis ensuite une prépa scientifique<\/p>\n",
    "        <HR WIDTH=\"50% \"SIZE=5 ALIGN=\"CENTER\" COLOR=\"black\">\n",
    "        <h2 ID=\"Hoobies\"><BR>Mes hobbies<\/h4>\n",
    "        <p>Le sport<BR>La magie<\/p>\n",
    "        <HR WIDTH=\"50% \"SIZE=5 ALIGN=\"CENTER\" COLOR=\"black\">\n",
    "        <h2><BR>Mes sites préférés<\/h5>\n",
    "        <A HREF=\"http:\/\/www.estp.fr\/\"> www.estp.fr <\/A> <BR>\n",
    "        <A HREF=\"ftp:\/\/ftp.jussieu.fr\"> ftp.jussieu.fr <\/A> <BR>\n",
    "        <A HREF=\"telnet:\/\/freenet.carleton.ca\"> freenet.carleton.ca <\/A> <BR> \n",
    "        <HR SIZE=5 ALIGN=\"CENTER\" COLOR=\"black\"> \n",
    "        <p><i><A HREF=\"mailto:françois.dupont@gmail.com\"> François Dupont <\/A> \/ révision \/ 21\/10\/2022<\/i><\/p>\n",
    "    <\/body>\n",
    "<\/html>"
   ],
   "attachments":{
    
   },
   "metadata":{
    "datalore":{
     "node_id":"9lllYNraCy8o99qmmSqOlk",
     "type":"MD",
     "hide_input_from_viewers":true,
     "hide_output_from_viewers":true
    }
   }
  },
  {
   "cell_type":"markdown",
   "source":[
    "<h1 ALIGN=\"CENTER\"> Exercice 5 <BR><BR><\/h1>\n",
    "\n",
    "<A HREF=\"https:\/\/www.estp.fr\/\"> <IMG SRC=\"estp_logo_b1.gif\" ALT=\"Lien site ESTP\" BORDER=\"pixels\" WIDTH=\"larg_pixels\" HEIGHT=\"haut_pixels\" ALIGN=\"LEFT\" HSPACE=\"pixels\" VSPACE=\"pixels\"> <\/A>\n",
    "\n",
    "<A HREF=\"http:\/\/www.malomatique.free.fr\/PN\/TP3\/images\/nouveau.jpg\"> <IMG SRC=\"nouveau0.jpg\" ALT=\"Lien grande image\" BORDER=\"pixels\" WIDTH=\"larg_pixels\" HEIGHT=\"haut_pixels\" ALIGN=\"RIGHT\" HSPACE=\"pixels\" VSPACE=\"pixels\"> <\/a>\n",
    "\n",
    "\n"
   ],
   "attachments":{
    
   },
   "metadata":{
    "datalore":{
     "node_id":"tXehpI99dr4iDO3fFDtG5M",
     "type":"MD",
     "hide_input_from_viewers":true,
     "hide_output_from_viewers":true
    }
   }
  },
  {
   "cell_type":"markdown",
   "source":[
    "<!DOCTYPE html>\n",
    "<html lang=\"fr\">\n",
    "    <head>\n",
    "        <meta charset=\"UTF-8\">\n",
    "        <meta http-equiv=\"body\" content=\"text\/html;charset=iso-8859-1\">\n",
    "        <meta name=\"keyword\" content=\"François Dupont\">\n",
    "        <meta name=\"description\" content=\"Un site html sur François Dupont\">\n",
    "        <title> Mon premier site web <\/title>\n",
    "    <\/head>\n",
    "    <body>\n",
    "        <h1 ALIGN=\"CENTER\"> Exercice 6 <BR><BR><\/h1>\n",
    "        <div style=\"background-color:#F1F8E0; padding:\">\n",
    "        <A HREF=\"https:\/\/www.estp.fr\/\"> <IMG SRC=\"estp_logo_b1.gif\" ALT=\"Lien site ESTP\" BORDER=\"pixels\" WIDTH=\"larg_pixels\" HEIGHT=\"haut_pixels\" ALIGN=\"LEFT\" HSPACE=\"pixels\" VSPACE=\"pixels\" <\/A> <br> <br><br><br><br><br>\n",
    "        <h1 style=\"color:#A96802\" ALIGN=\"center\">François Dupont<\/h1>\n",
    "        <ol style=\"color:#A96802\">\n",
    "        <li><A HREF=\"#Coor\"> Mes coordonnées <\/A> <BR> <\/li>\n",
    "        <li><A HREF=\"#Curr\"> Mon curriculum vitae <\/A> <BR> <\/li>\n",
    "        <li><A HREF=\"#Hoob\"> Mes hoobies <\/A> <BR> <\/li>\n",
    "        <li><A HREF=\"#pref\"> Mes sites préférés <\/A> <BR> <\/li>\n",
    "        <\/ol>\n",
    "        <HR SIZE=4 ALIGN=\"CENTER\" COLOR=\"#BDBDBD\"> \n",
    "        <h2 style=\"color:#A96802\" ID=\"Coor\"><BR>Mes coordonnées<\/h2>\n",
    "        <p style=\"color:#A96802\">François Dupont<BR>SI-DGR<BR>EPFL<BR>CH - 1015 Lausanne<\/p>\n",
    "        <HR WIDTH=\"50%\" SIZE=4 ALIGN=\"CENTER\" COLOR=\"#BDBDBD\">\n",
    "        <h2 style=\"color:#A96802\" ID=\"Curr\"><BR>Mon curriculum vitae<\/h2>\n",
    "        <h3 style=\"color:#A96802\"> Ecoles fréquentées <\/h3>\n",
    "        <OL style=\"color:#A96802\">\n",
    "        <li> Ecole primaire : <\/li>\n",
    "            <ul style=\"color: #A96802\"> \n",
    "            <li> 1ère : Yveron <\/li>\n",
    "            <li> 2e-3e : Echallens <\/li>\n",
    "            <\/ul>\n",
    "        <li> Ecole secondaire : <\/li>\n",
    "            <ul style=\"list-style:circle;\">\n",
    "            <li> 1ère-3e : Echallens <\/li>\n",
    "            <li> 4e-6e scient. : Lausanne, Béthusy <\/li>\n",
    "            <\/ul>\n",
    "        <li> Gymnase : <\/li>\n",
    "            <ul style=\"list-style:square;\">\n",
    "            <li> Lausanne, La cité <\/li>\n",
    "            <\/ul>\n",
    "        <li> Université : <\/li>\n",
    "            <ul style=\"list-style:square;\">  \n",
    "            <li> Lausanne, faculté, Physique <\/li>\n",
    "            <\/ul>\n",
    "        <\/OL>\n",
    "        <h3 style=\"color:#A96802\"> Mes diplômes <\/h3>\n",
    "        <dl style=\"color:#A96802\"> \n",
    "            <dt> <B> 1990 <\/b> <br> <\/dt> \n",
    "                <dd> Certificat de fin d'études secondaires <br><br> <\/dd> \n",
    "            <dt> <B> 1993 <\/b><br> <\/dt>\n",
    "                <dd> Maturité scientifique <br><br> <\/dd>\n",
    "            <dt> <B> 1998 <\/b> <br> <\/dt>\n",
    "                <dd> Licence en physique. Travail de mémoire réalisé dans le domaine des capteurs... <\/dd>\n",
    "        <\/dl>\n",
    "        <HR WIDTH=\"50% \" SIZE=4 ALIGN=\"CENTER\" COLOR=\"#BDBDBD\">\n",
    "        <h2 style=\"color:#A96802\" ID=\"Hoob\"><BR>Mes hobbies<\/h2>\n",
    "        <p style=\"color:#A96802\">à remplir...<\/p>\n",
    "        <HR WIDTH=\"50% \" SIZE=4 ALIGN=\"CENTER\" COLOR=\"#BDBDBD\">\n",
    "        <h2 style=\"color:#A96802\" ID=\"pref\"><BR>Mes sites préférés<\/h2>\n",
    "            <ul style=\"color:#A96802\">\n",
    "            <li>le site de l'estp<A HREF=\"http:\/\/www.estp.fr\/\"> www.estp.fr <\/A> <BR> <\/li>\n",
    "            <li>Le serveur FTP anonyme de jussieu<A HREF=\"ftp:\/\/ftp.jussieu.fr\/\"> ftp:\/\/ftp.jussieu.fr <\/A> <BR> <\/li>\n",
    "            <li>Le telnet carleton au Canada<A HREF=\"telnet:\/\/freenet.carleton.ca\/\"> telnet:\/\/freenet.carleton.ca <\/A> <BR> <\/li>\n",
    "            <\/ul>\n",
    "        <HR SIZE=4 ALIGN=\"CENTER\" COLOR=\"#BDBDBD\"> \n",
    "        <p style=\"color:#A96802\"><b><i><A HREF=\"mailto:françois.dupont@gmail.com\"> François Dupont <\/A> \/ révision 21\/10\/2022<\/i><\/b><\/p>\n",
    "        <\/div>\n",
    "    <\/body>\n",
    "<\/html>"
   ],
   "attachments":{
    
   },
   "metadata":{
    "datalore":{
     "node_id":"gmgliEReCPXnC8sTy7VQDj",
     "type":"MD",
     "hide_input_from_viewers":true,
     "hide_output_from_viewers":true
    }
   }
  },
  {
   "cell_type":"markdown",
   "source":[
    "<h1 ALIGN=\"CENTER\"> Exercice 7 <BR><BR><\/h1>\n",
    "<body bgcolor=\"black\" fontcolor=\"white\">\n",
    "   <font color=white>\n",
    "<TABLE BGCOLOR=\"#293542\" ALIGN=\"CENTER\" WIDTH=\"80%\" CELLSPACING=\"10\"  CELLPADDING=\"5\">                                                                         \n",
    "  <TR BGCOLOR=\"white\" ALIGN=\"CENTER\" VALIGN=\"TOP\" WIDTH=\"500\">\n",
    "    <TH BGCOLOR=\"#293542\" ALIGN=\"LEFT\" VALIGN=\"TOP\" width=\"80\"><B>#<\/B><\/TH>\n",
    "    <TD BGCOLOR=\"#293542\" ALIGN=\"LEFT\" VALIGN=\"TOP\" width=\"(80%-80)\/3\"><B>First<\/B><\/TD>\n",
    "    <TD BGCOLOR=\"#293542\" ALIGN=\"LEFT\" VALIGN=\"TOP\" width=\"(80%-80)\/3\"><B>Last<\/B><\/TD>\n",
    "  <TD BGCOLOR=\"#293542\" ALIGN=\"LEFT\" VALIGN=\"TOP\" width=\"(80%-80)\/3\"><B>Handle<\/B><\/TD>\n",
    "  <\/TR>\n",
    "\n",
    "  <TR BGCOLOR=\"#293542\" ALIGN=\"LEFT\" VALIGN=\"TOP\" WIDTH=\"5000\">\n",
    "  <TD BGCOLOR=\"#293542\" ALIGN=\"LEFT\" VALIGN=\"TOP\" width=\"(80%-80)\/3\"><B>1<\/B><\/TD>\n",
    "  <TD BGCOLOR=\"#293542\" ALIGN=\"LEFT\" VALIGN=\"TOP\" width=\"(80%-80)\/3\">Mark<\/TD>\n",
    "  <TD BGCOLOR=\"#293542\" ALIGN=\"LEFT\" VALIGN=\"TOP\" width=\"(80%-80)\/3\">Otto<\/TD>\n",
    "  <TD BGCOLOR=\"#293542\" ALIGN=\"LEFT\" VALIGN=\"TOP\" width=\"(80%-80)\/3\">@mdo<\/TD>\n",
    "  <\/TR>\n",
    "\n",
    "  <TR BGCOLOR=\"#293542\" ALIGN=\"LEFT\" VALIGN=\"TOP\" WIDTH=\"500\">\n",
    "  <TD BGCOLOR=\"#293542\" ALIGN=\"LEFT\" VALIGN=\"TOP\" ROWSPAN=\"1\" COLSPAN=\"1\"><B>2<\/B><\/TD>\n",
    "<TD BGCOLOR=\"#293542\" ALIGN=\"LEFT\" VALIGN=\"TOP\" width=\"(80%-80)\/3\">Jacob<\/TD>\n",
    "  <TD BGCOLOR=\"#293542\" ALIGN=\"LEFT\" VALIGN=\"TOP\" width=\"(80%-80)\/3\">Thornton<\/TD>\n",
    "[19:22, 21\/10\/2022] +33 6 33 69 13 00: <TD BGCOLOR=\"#293542\" ALIGN=\"LEFT\" VALIGN=\"TOP\" width=\"(80%-80)\/3\">@fat<\/TD>\n",
    "  <\/TR>\n",
    "\n",
    "  <TR BGCOLOR=\"#293542\" ALIGN=\"LEFT\" VALIGN=\"TOP\" WIDTH=\"500\">\n",
    "  <TD BGCOLOR=\"#293542\" ALIGN=\"LEFT\" VALIGN=\"TOP\" ROWSPAN=\"1\" COLSPAN=\"1\"><B>3<\/B><\/TD>\n",
    "  <TD BGCOLOR=\"#293542\" ALIGN=\"LEFT\" VALIGN=\"TOP\" width=\"(80%-80)\/3\">Larry the Bird<\/TD>\n",
    "  <TD BGCOLOR=\"#293542\" ALIGN=\"LEFT\" VALIGN=\"TOP\" width=\"(80%-80)\/3\"><\/TD>\n",
    "  <TD BGCOLOR=\"#293542\" ALIGN=\"LEFT\" VALIGN=\"TOP\" width=\"(80%-80)\/3\">@twitter<\/TD>\n",
    "  <\/TR>\n",
    "\n",
    "<\/font>\n",
    "\n",
    "<\/body>\n",
    "<\/html>"
   ],
   "attachments":{
    
   },
   "metadata":{
    "datalore":{
     "node_id":"vpCWR9Lgyb402qYPpu9Vt1",
     "type":"MD",
     "hide_input_from_viewers":true,
     "hide_output_from_viewers":true
    }
   }
  }
 ],
 "metadata":{
  "kernelspec":{
   "display_name":"Python",
   "language":"python",
   "name":"python"
  },
  "datalore":{
   "computation_mode":"JUPYTER",
   "package_manager":"pip",
   "base_environment":"default",
   "packages":[
    
   ],
   "report_row_ids":[
    
   ],
   "version":2
  }
 },
 "nbformat":4,
 "nbformat_minor":4
}