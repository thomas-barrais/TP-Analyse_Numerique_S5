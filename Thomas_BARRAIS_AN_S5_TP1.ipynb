{
 "cells":[
  {
   "cell_type":"markdown",
   "source":[
    "                                                        1. NIVEAU 1\n",
    "    1.1) Expression booléenne "
   ],
   "attachments":{
    
   },
   "metadata":{
    "datalore":{
     "node_id":"pmzvbxOziIBj7IlpDRM1Af",
     "type":"MD",
     "hide_input_from_viewers":false,
     "hide_output_from_viewers":false,
     "report_properties":{
      "rowId":"JNXWbVdDNTAQIBtaP6t8l4"
     }
    }
   }
  },
  {
   "cell_type":"code",
   "source":[
    "# inorder.py\n",
    "\n",
    "a = int(input('a=')) #l'utilisateur rentre 3 nombres\n",
    "b = int(input('b='))\n",
    "c = int(input('c='))\n",
    "inorder = a<b<c or c<b<a #si les 3 nombres sont stricement croissant ou décroissant alors le boléen est Vraie\n",
    "print(inorder)"
   ],
   "execution_count":null,
   "outputs":[
    
   ],
   "metadata":{
    "datalore":{
     "node_id":"tGr33IdxKakIQmnLZZDBZG",
     "type":"CODE",
     "hide_input_from_viewers":false,
     "hide_output_from_viewers":false,
     "report_properties":{
      "rowId":"JNXWbVdDNTAQIBtaP6t8l4"
     }
    }
   }
  },
  {
   "cell_type":"markdown",
   "source":[
    "    1.2) Tri simple "
   ],
   "attachments":{
    
   },
   "metadata":{
    "datalore":{
     "node_id":"u4eswUPgMDylKLSTUHkdJb",
     "type":"MD",
     "hide_input_from_viewers":false,
     "hide_output_from_viewers":false,
     "report_properties":{
      "rowId":"JNXWbVdDNTAQIBtaP6t8l4"
     }
    }
   }
  },
  {
   "cell_type":"code",
   "source":[
    "# sort.py\n",
    "\n",
    "a = int(input('a=')) #l'utilisateur rentre nombre\n",
    "b = int(input('b='))\n",
    "c = int(input('c='))\n",
    "if a > b : #si a>b alors a doit être afficher en premier donc a devient b et b devient a\n",
    "    diff = b\n",
    "    b = a\n",
    "    a = diff #ou a,b=b,a\n",
    "if b > c : #on répète l'opération entre b et c\n",
    "    diff = c\n",
    "    c = b\n",
    "    b = diff\n",
    "if a > c : #on répète une 3eme fois pour s'assurer que a est bien supérieur au dernier nombre\n",
    "    diff = a\n",
    "    c = a\n",
    "    a = diff\n",
    "print(a,b,c) #on affiche les 3 nombres dans l'ordre"
   ],
   "execution_count":32,
   "outputs":[
    {
     "name":"stdout",
     "text":[
      "a= 5\n",
      "b= 2\n",
      "c= 8\n",
      "2 5 8\n"
     ],
     "output_type":"stream"
    }
   ],
   "metadata":{
    "datalore":{
     "node_id":"Ezvf9J5g3kl3EYxDuu4W2I",
     "type":"CODE",
     "hide_input_from_viewers":false,
     "hide_output_from_viewers":false,
     "report_properties":{
      "rowId":"JNXWbVdDNTAQIBtaP6t8l4"
     }
    }
   }
  },
  {
   "cell_type":"markdown",
   "source":[
    "    1.3) Année bissextile"
   ],
   "attachments":{
    
   },
   "metadata":{
    "datalore":{
     "node_id":"2BbTU3jlRh7kvsGq3QqmTF",
     "type":"MD",
     "hide_input_from_viewers":false,
     "hide_output_from_viewers":false,
     "report_properties":{
      "rowId":"JNXWbVdDNTAQIBtaP6t8l4"
     }
    }
   }
  },
  {
   "cell_type":"code",
   "source":[
    "# leap.py\n",
    "\n",
    "a = int(input('a=')) \n",
    "B = a%4 == 0 and a%100!=0 #Si l'utilisateur rentre un nombre multiple de 4 mais pas de 100 alors boléen vraie \n",
    "print(B)"
   ],
   "execution_count":1,
   "outputs":[
    {
     "name":"stdout",
     "text":[
      "a= 2022\n",
      "False\n"
     ],
     "output_type":"stream"
    }
   ],
   "metadata":{
    "datalore":{
     "node_id":"fPr4kkWWr9E1E97JzYzmxW",
     "type":"CODE",
     "hide_input_from_viewers":false,
     "hide_output_from_viewers":false,
     "report_properties":{
      "rowId":"JNXWbVdDNTAQIBtaP6t8l4"
     }
    }
   }
  },
  {
   "cell_type":"markdown",
   "source":[
    "    1.4) Opérateur arithmétique"
   ],
   "attachments":{
    
   },
   "metadata":{
    "datalore":{
     "node_id":"3Zh5qoLh2lZZhqNO3tSsJD",
     "type":"MD",
     "hide_input_from_viewers":false,
     "hide_output_from_viewers":false,
     "report_properties":{
      "rowId":"JNXWbVdDNTAQIBtaP6t8l4"
     }
    }
   }
  },
  {
   "cell_type":"code",
   "source":[
    "import sys\n",
    "a = int(input('a='))\n",
    "while a\/\/10 >= 1: #la boucle s'arrête quand a est un chiffre (entre 0 et 9)\n",
    "    print(a%10,end='') #on affiche le reste de la division euclidienne par 10\n",
    "    a = a\/\/10 #on supprime le dernier élément dans notre nombre\n",
    "print(a,end='')"
   ],
   "execution_count":3,
   "outputs":[
    {
     "name":"stdout",
     "text":[
      "a= 123456\n",
      "654321"
     ],
     "output_type":"stream"
    }
   ],
   "metadata":{
    "datalore":{
     "node_id":"qulUlznKmfzEAXbvifDkFg",
     "type":"CODE",
     "hide_input_from_viewers":false,
     "hide_output_from_viewers":false,
     "report_properties":{
      "rowId":"JNXWbVdDNTAQIBtaP6t8l4"
     }
    }
   }
  },
  {
   "cell_type":"markdown",
   "source":[
    "    1.5) Jour de la semaine"
   ],
   "attachments":{
    
   },
   "metadata":{
    "datalore":{
     "node_id":"4W1DhoVfDkFsgvRrgf2LKN",
     "type":"MD",
     "hide_input_from_viewers":false,
     "hide_output_from_viewers":false,
     "report_properties":{
      "rowId":"JNXWbVdDNTAQIBtaP6t8l4"
     }
    }
   }
  },
  {
   "cell_type":"code",
   "source":[
    "# day.py\n",
    "\n",
    "L = (\"Dimanche\" ,  \"Lundi\" ,  \"Mardi\" ,  \" Mercredi \" ,  \" Jeudi \" ,  \"Vendredi\" ,  \"Samedi\" )\n",
    "d = int(input())\n",
    "m = int(input())\n",
    "a = int(input()) #l'utilisateur entre un jour,un mois et une année\n",
    "a0= a-(14-m)\/\/12\n",
    "x= a0 + a0\/\/4 - a0\/\/100 + a0\/\/400\n",
    "m0= m + 12*((14-m)\/\/12)-2\n",
    "d0=(d + x + (31*m0)\/\/12)%7\n",
    "\n",
    "print(L[d0]) #on affiche l'élement qui se trouve dans l'indice d0 calculé dans la liste L"
   ],
   "execution_count":15,
   "outputs":[
    {
     "name":"stdout",
     "text":[
      " 12\n",
      " 7\n",
      " 1963\n",
      "Vendredi\n"
     ],
     "output_type":"stream"
    }
   ],
   "metadata":{
    "datalore":{
     "node_id":"ftaoVxoUFpGcOEAgwuWKDt",
     "type":"CODE",
     "hide_input_from_viewers":false,
     "hide_output_from_viewers":false,
     "report_properties":{
      "rowId":"JNXWbVdDNTAQIBtaP6t8l4"
     }
    }
   }
  },
  {
   "cell_type":"markdown",
   "source":[
    "    1.6) Equation de second degré"
   ],
   "attachments":{
    
   },
   "metadata":{
    "datalore":{
     "node_id":"AhJzuaCpGUqTUf7eP9a6R0",
     "type":"MD",
     "hide_input_from_viewers":false,
     "hide_output_from_viewers":false,
     "report_properties":{
      "rowId":"JNXWbVdDNTAQIBtaP6t8l4"
     }
    }
   }
  },
  {
   "cell_type":"code",
   "source":[
    "# qroots.py\n",
    "\n",
    "import math as m\n",
    "a = float(input('a='))\n",
    "b = float(input('b='))\n",
    "c = float(input('c=')) #l'utilisateur introduit 3 nombres\n",
    "d = b**2 - 4*a*c #on calcul le déterminant\n",
    "if d > 0 : #calcul des 2 racines réelles pour determinant positif\n",
    "    r1 = (-b-m.sqrt(d))\/(2*a)\n",
    "    r2 = (-b+m.sqrt(d))\/(2*a)\n",
    "    print('Deux racines réelles: ', r1,' et ', r2)\n",
    "elif d==0 : #si non positif mais nul, calcul de la racine double \n",
    "    print('Une racine double: ', -b\/(2*a))    \n",
    "else : #dernière possibilité, delta négatif\n",
    "    z = (-b+m.sqrt(-d)*1j)\/(2*a)\n",
    "    print('Deux racines complexes conjguées',z,'et',z.conjugate())"
   ],
   "execution_count":6,
   "outputs":[
    {
     "name":"stdout",
     "text":[
      "a= 4.3\n",
      "b= 8\n",
      "c= 2\n",
      "Deux racines réelles:  -1.5628590934295554  et  -0.2976060228495143\n"
     ],
     "output_type":"stream"
    }
   ],
   "metadata":{
    "datalore":{
     "node_id":"bX027JoemvPo31PbFqDo1E",
     "type":"CODE",
     "hide_input_from_viewers":false,
     "hide_output_from_viewers":false,
     "report_properties":{
      "rowId":"JNXWbVdDNTAQIBtaP6t8l4"
     }
    }
   }
  },
  {
   "cell_type":"markdown",
   "source":[
    "    1.7) Voyelle"
   ],
   "attachments":{
    
   },
   "metadata":{
    "datalore":{
     "node_id":"r0zBt1PIYvjlN3H3NkHluT",
     "type":"MD",
     "hide_input_from_viewers":false,
     "hide_output_from_viewers":false,
     "report_properties":{
      "rowId":"JNXWbVdDNTAQIBtaP6t8l4"
     }
    }
   }
  },
  {
   "cell_type":"code",
   "source":[
    "n = input('n=')\n",
    "print(n in \"aeiouy\") #on affiche les caractères de n qui sont dans 'aeiouy'"
   ],
   "execution_count":17,
   "outputs":[
    {
     "name":"stdout",
     "text":[
      " a\n",
      "True\n"
     ],
     "output_type":"stream"
    }
   ],
   "metadata":{
    "datalore":{
     "node_id":"SLNV6mUdhrJhgUXs6ONloS",
     "type":"CODE",
     "hide_input_from_viewers":false,
     "hide_output_from_viewers":false,
     "report_properties":{
      "rowId":"JNXWbVdDNTAQIBtaP6t8l4"
     }
    }
   }
  },
  {
   "cell_type":"markdown",
   "source":[
    "    1.8) Voyelles"
   ],
   "attachments":{
    
   },
   "metadata":{
    "datalore":{
     "node_id":"eSG9MYpZ6DbDVe3DdM2eDK",
     "type":"MD",
     "hide_input_from_viewers":false,
     "hide_output_from_viewers":false,
     "report_properties":{
      "rowId":"JNXWbVdDNTAQIBtaP6t8l4"
     }
    }
   }
  },
  {
   "cell_type":"code",
   "source":[
    "# voyelles.py\n",
    "\n",
    "n = input() #chaine de caractère\n",
    "def nbVoyelle(mot):\n",
    "    k = 0\n",
    "    for i in mot:\n",
    "        if i in \"aeiouy\": #on parcours mot et on incrémente k a chaque voyelle rencontré\n",
    "            k += 1\n",
    "    return k\n",
    "print(nbVoyelle(n))"
   ],
   "execution_count":18,
   "outputs":[
    {
     "name":"stdout",
     "text":[
      " chien\n",
      "2\n"
     ],
     "output_type":"stream"
    }
   ],
   "metadata":{
    "datalore":{
     "node_id":"3q3UfgTnsQ03ZJtLTkINtJ",
     "type":"CODE",
     "hide_input_from_viewers":false,
     "hide_output_from_viewers":false,
     "report_properties":{
      "rowId":"JNXWbVdDNTAQIBtaP6t8l4"
     }
    }
   }
  },
  {
   "cell_type":"markdown",
   "source":[
    "    1.9) Voyelles deux"
   ],
   "attachments":{
    
   },
   "metadata":{
    "datalore":{
     "node_id":"WtufH8InNCzN3PMLOPJu0g",
     "type":"MD",
     "hide_input_from_viewers":false,
     "hide_output_from_viewers":false,
     "report_properties":{
      "rowId":"JNXWbVdDNTAQIBtaP6t8l4"
     }
    }
   }
  },
  {
   "cell_type":"code",
   "source":[
    "# mostvowels.py\n",
    "\n",
    "text = input('text=')\n",
    "L = text.split() #on introduit une chaine de caractère qui est séparé en plusieurs par les \"espaces\"\n",
    "def nbVoyelle(mot):\n",
    "    k=0\n",
    "    for i in mot:\n",
    "        if  i in \"aeiouy\" : #on parcours mot et on incrémente k a chaque voyelle recontré\n",
    "            k += 1\n",
    "    return k\n",
    "\n",
    "n=0\n",
    "m=''\n",
    "for mot in L:\n",
    "    x = nbVoyelle(mot) #on compte le nombre de voyelle dans le mot\n",
    "    if x > n : #on compare le nombre de voyelle au nombre de voyelle du mot précédent pour garder le maximum\n",
    "        n = x\n",
    "        m = mot #m prend la chaine de caractère du mot avec le plus grand nombre de voyelle\n",
    "print(m,n)"
   ],
   "execution_count":7,
   "outputs":[
    {
     "name":"stdout",
     "text":[
      "text= azkdjdksjfh dsjfhqkfh\n",
      "azkdjdksjfh 1\n"
     ],
     "output_type":"stream"
    }
   ],
   "metadata":{
    "datalore":{
     "node_id":"7QINlMil0Xwx3oujIytLmM",
     "type":"CODE",
     "hide_input_from_viewers":false,
     "hide_output_from_viewers":false,
     "report_properties":{
      "rowId":"JNXWbVdDNTAQIBtaP6t8l4"
     }
    }
   }
  },
  {
   "cell_type":"markdown",
   "source":[
    "                                                            2. NIVEAU 2\n",
    "    2.1) Palindrome "
   ],
   "attachments":{
    
   },
   "metadata":{
    "datalore":{
     "node_id":"Jxl9VzoueouKwGKeP9ugIY",
     "type":"MD",
     "hide_input_from_viewers":false,
     "hide_output_from_viewers":false,
     "report_properties":{
      "rowId":"JNXWbVdDNTAQIBtaP6t8l4"
     }
    }
   }
  },
  {
   "cell_type":"code",
   "source":[
    "#palindrome.py\n",
    "\n",
    "p = input('mot=') #l'utilisateur choisit un mot\n",
    "k = 0\n",
    "for i in range(len(p)): #on parcours la taille de la chaine de caractère\n",
    "    if p[i] == p[len(p) - i -1]: #on incrémente k si l'indice en i de la chaine de caractère est le même \n",
    "        #que l'indice en n-i-1 (avec n le nombre de caractère dans p)\n",
    "        k = k + 1\n",
    "print(len(p) == k)"
   ],
   "execution_count":8,
   "outputs":[
    {
     "name":"stdout",
     "text":[
      " laval\n",
      "True\n"
     ],
     "output_type":"stream"
    }
   ],
   "metadata":{
    "datalore":{
     "node_id":"0DFwZyysW2kvXjlScdccUd",
     "type":"CODE",
     "hide_input_from_viewers":false,
     "hide_output_from_viewers":false,
     "report_properties":{
      "rowId":"JNXWbVdDNTAQIBtaP6t8l4"
     }
    }
   }
  },
  {
   "cell_type":"markdown",
   "source":[
    "    2.2) Factorial"
   ],
   "attachments":{
    
   },
   "metadata":{
    "datalore":{
     "node_id":"WBpI3LgMNUERuKg1iOTTFd",
     "type":"MD",
     "hide_input_from_viewers":false,
     "hide_output_from_viewers":false,
     "report_properties":{
      "rowId":"JNXWbVdDNTAQIBtaP6t8l4"
     }
    }
   }
  },
  {
   "cell_type":"code",
   "source":[
    "#factorial.py\n",
    "\n",
    "a = int(input('a='))\n",
    "k = 1\n",
    "s = 1\n",
    "while k != a: \n",
    "    s = s*(k+1)\n",
    "    k = k+1\n",
    "print(s)\n"
   ],
   "execution_count":36,
   "outputs":[
    {
     "name":"stdout",
     "text":[
      " 5\n",
      "120\n"
     ],
     "output_type":"stream"
    }
   ],
   "metadata":{
    "datalore":{
     "node_id":"jsTPbq1xUdSokstHeXQ5Ht",
     "type":"CODE",
     "hide_input_from_viewers":false,
     "hide_output_from_viewers":false,
     "report_properties":{
      "rowId":"JNXWbVdDNTAQIBtaP6t8l4"
     }
    }
   }
  },
  {
   "cell_type":"markdown",
   "source":[
    "    2.3) Grid"
   ],
   "attachments":{
    
   },
   "metadata":{
    "datalore":{
     "node_id":"I83rm8UhUtgsWacZIefhiA",
     "type":"MD",
     "hide_input_from_viewers":false,
     "hide_output_from_viewers":false,
     "report_properties":{
      "rowId":"JNXWbVdDNTAQIBtaP6t8l4"
     }
    }
   }
  },
  {
   "cell_type":"code",
   "source":[
    "#grid.py\n",
    "\n",
    "m = int(input('m='))\n",
    "n = int(input('n='))\n",
    "l = []\n",
    "j = 0\n",
    "for i in range(n):\n",
    "    l.append([range(0+j, m+j)])\n",
    "    j = (i+1) * m\n",
    "print(l)"
   ],
   "execution_count":46,
   "outputs":[
    {
     "name":"stdout",
     "text":[
      " 5\n",
      " 6\n",
      "[[range(0, 5)], [range(5, 10)], [range(10, 15)], [range(15, 20)], [range(20, 25)], [range(25, 30)]]\n"
     ],
     "output_type":"stream"
    }
   ],
   "metadata":{
    "datalore":{
     "node_id":"rGwmm8DaBY7gMOKC381CwL",
     "type":"CODE",
     "hide_input_from_viewers":false,
     "hide_output_from_viewers":false,
     "report_properties":{
      "rowId":"JNXWbVdDNTAQIBtaP6t8l4"
     }
    }
   }
  },
  {
   "cell_type":"markdown",
   "source":[
    "    2.4) Triangle test1"
   ],
   "attachments":{
    
   },
   "metadata":{
    "datalore":{
     "node_id":"1Q6ThtH4q0iQR8oUAml4uu",
     "type":"MD",
     "hide_input_from_viewers":false,
     "hide_output_from_viewers":false,
     "report_properties":{
      "rowId":"JNXWbVdDNTAQIBtaP6t8l4"
     }
    }
   }
  },
  {
   "cell_type":"code",
   "source":[
    "#test1\n",
    "#triangle\n",
    "\n",
    "n = input()\n",
    "l = ['' for j in n]\n",
    "for i in range(int(n)):\n",
    "    for k in range(int(n)):\n",
    "        l[i][k] = etoile\n",
    "print(l)\n"
   ],
   "execution_count":57,
   "outputs":[
    {
     "name":"stdout",
     "text":[
      " 5\n"
     ],
     "output_type":"stream"
    },
    {
     "ename":"TypeError",
     "evalue":"TypeError: 'int' object is not iterable",
     "traceback":[
      "\u001b[0;31m---------------------------------------------------------------------------",
      "Traceback (most recent call last)",
      "    at line 2 in <module>",
      "TypeError: 'int' object is not iterable"
     ],
     "output_type":"error"
    }
   ],
   "metadata":{
    "datalore":{
     "node_id":"mzX8LbHyYb4wlO75hVGnhU",
     "type":"CODE",
     "hide_input_from_viewers":false,
     "hide_output_from_viewers":false,
     "report_properties":{
      "rowId":"JNXWbVdDNTAQIBtaP6t8l4"
     }
    }
   }
  },
  {
   "cell_type":"markdown",
   "source":[
    "    2.4) Triangle test2"
   ],
   "attachments":{
    
   },
   "metadata":{
    "datalore":{
     "node_id":"PtXvbzAA9KgFdX2fVfVb2d",
     "type":"MD",
     "hide_input_from_viewers":false,
     "hide_output_from_viewers":false,
     "report_properties":{
      "rowId":"JNXWbVdDNTAQIBtaP6t8l4"
     }
    }
   }
  },
  {
   "cell_type":"code",
   "source":[
    "#test2\n",
    "#triangle.py\n",
    "\n",
    "n=int(input('n='))\n",
    "etoiles=n\n",
    "point=0\n",
    "for i in range(n):\n",
    "    print(point*'.', etoiles*'*')\n",
    "    etoiles-=1\n",
    "    point+=1"
   ],
   "execution_count":8,
   "outputs":[
    {
     "name":"stdout",
     "text":[
      "n= 6\n",
      " ******\n",
      ". *****\n",
      ".. ****\n",
      "... ***\n",
      ".... **\n",
      "..... *\n"
     ],
     "output_type":"stream"
    }
   ],
   "metadata":{
    "datalore":{
     "node_id":"Uj6KA21wXD2yfb2uED4G9V",
     "type":"CODE",
     "hide_input_from_viewers":false,
     "hide_output_from_viewers":false,
     "report_properties":{
      "rowId":"JNXWbVdDNTAQIBtaP6t8l4"
     }
    }
   }
  },
  {
   "cell_type":"markdown",
   "source":[
    "    2.5) Arrow"
   ],
   "attachments":{
    
   },
   "metadata":{
    "datalore":{
     "node_id":"khgwXCSMNnjn35RWPN9qSE",
     "type":"MD",
     "hide_input_from_viewers":false,
     "hide_output_from_viewers":false,
     "report_properties":{
      "rowId":"JNXWbVdDNTAQIBtaP6t8l4"
     }
    }
   }
  },
  {
   "cell_type":"code",
   "source":[
    "#arrow.py\n",
    "\n",
    "n=int(input('n='))\n",
    "etoiles=1\n",
    "espaces=n-1\n",
    "for i in range (n):\n",
    "    print(espaces*' ', etoiles*'*')\n",
    "    etoiles+=2\n",
    "    espaces-=1"
   ],
   "execution_count":1,
   "outputs":[
    {
     "name":"stdout",
     "text":[
      "n= 6\n",
      "  *\n",
      "  ***\n",
      "  *****\n",
      "  *******\n",
      "  *********\n",
      "  ***********\n"
     ],
     "output_type":"stream"
    }
   ],
   "metadata":{
    "datalore":{
     "node_id":"7jRBY9076KPNZJSzneUU5x",
     "type":"CODE",
     "hide_input_from_viewers":false,
     "hide_output_from_viewers":false,
     "report_properties":{
      "rowId":"JNXWbVdDNTAQIBtaP6t8l4"
     }
    }
   }
  },
  {
   "cell_type":"markdown",
   "source":[
    "    2.6) Prime"
   ],
   "attachments":{
    
   },
   "metadata":{
    "datalore":{
     "node_id":"969DoJfSptKUhjiQmWlSRR",
     "type":"MD",
     "hide_input_from_viewers":false,
     "hide_output_from_viewers":false,
     "report_properties":{
      "rowId":"JNXWbVdDNTAQIBtaP6t8l4"
     }
    }
   }
  },
  {
   "cell_type":"code",
   "source":[
    "#prime.py\n",
    "\n",
    "n=int(input('n='))\n",
    "i=2\n",
    "while i < n and i != 0:\n",
    "    i+=1\n",
    "if i == n:\n",
    "    print(n, 'est premier !')\n",
    "else :\n",
    "    print(n, \"n'est pas premier !\")"
   ],
   "execution_count":20,
   "outputs":[
    {
     "name":"stdout",
     "text":[
      "n= 7\n",
      "7 est premier !\n"
     ],
     "output_type":"stream"
    }
   ],
   "metadata":{
    "datalore":{
     "node_id":"3Ss5bz0lmHC7vFiZlXvKHq",
     "type":"CODE",
     "hide_input_from_viewers":false,
     "hide_output_from_viewers":false,
     "report_properties":{
      "rowId":"JNXWbVdDNTAQIBtaP6t8l4"
     }
    }
   }
  }
 ],
 "metadata":{
  "kernelspec":{
   "display_name":"Python",
   "language":"python",
   "name":"python"
  },
  "datalore":{
   "computation_mode":"JUPYTER",
   "package_manager":"pip",
   "base_environment":"default",
   "packages":[
    
   ],
   "report_row_ids":[
    "JNXWbVdDNTAQIBtaP6t8l4"
   ],
   "version":2
  }
 },
 "nbformat":4,
 "nbformat_minor":4
}