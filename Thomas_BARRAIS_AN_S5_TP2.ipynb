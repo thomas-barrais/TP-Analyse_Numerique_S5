{
 "cells":[
  {
   "cell_type":"markdown",
   "source":[
    "                                                    1. Dictionnaire\n",
    "    1.1) Dictionnaire statistique"
   ],
   "attachments":{
    
   },
   "metadata":{
    "datalore":{
     "node_id":"SJnQdRmOQ21KcfKbVRXH3E",
     "type":"MD",
     "hide_input_from_viewers":true,
     "hide_output_from_viewers":true
    }
   }
  },
  {
   "cell_type":"code",
   "source":[
    "#Définition d'un dictionnaire en plusieurs étapes\n",
    "animals = {'a':['horse'] ,'b':['baboon'],'c':['giraffe']}\n",
    "animals['d']=['donkey']\n",
    "animals['d'].append('dog')\n",
    "animals['d'].append('dingo')\n",
    "print(animals)\n",
    "\n",
    "#Nombre d'espèce dans le dictionnaire animals\n",
    "def how_many(dic):\n",
    "    sum = 0\n",
    "    for (k,v) in dic.items():\n",
    "        sum += len(v)\n",
    "    return sum #on retourne la taille(=le nombre) de valeur\n",
    "print(how_many(animals))\n",
    "\n",
    "#Recherche d'un maximum\n",
    "def biggest(dic):\n",
    "    biggest = 0\n",
    "    key= ''\n",
    "    for (k,v) in dic.items():\n",
    "        if len(v) > biggest:\n",
    "            biggest = len(v)\n",
    "            key = k \n",
    "    return key  #on retourne la clé de la plus grande valeur (=la valeur avec le plus d'élements dans sa liste)\n",
    "print(biggest(animals))\n",
    "\n",
    "def stats(dic):\n",
    "    sum = how_many(dic) \n",
    "    largest = len(animals[biggest(dic)])\n",
    "    return (sum,largest) #on retourne le nombre de valeur et la taille (=le nomre d'élements) de la plus grande\n",
    "\n",
    "animals = {'a':['horse'] ,'b':['baboon'],'c':['giraffe']}\n",
    "animals['d']=['donkey']\n",
    "animals['d'].append('dog')\n",
    "animals['d'].append('dingo')\n",
    "print(stats(animals))"
   ],
   "execution_count":2,
   "outputs":[
    {
     "name":"stdout",
     "text":[
      "{'a': ['horse'], 'b': ['baboon'], 'c': ['giraffe'], 'd': ['donkey', 'dog', 'dingo']}\n",
      "6\n",
      "d\n",
      "(6, 3)\n"
     ],
     "output_type":"stream"
    }
   ],
   "metadata":{
    "datalore":{
     "node_id":"d4biUTeSSXV5HYChuYSPLl",
     "type":"CODE",
     "hide_input_from_viewers":true,
     "hide_output_from_viewers":true
    }
   }
  },
  {
   "cell_type":"markdown",
   "source":[
    "    1.2) Ordre d'une date dans l'année"
   ],
   "attachments":{
    
   },
   "metadata":{
    "datalore":{
     "node_id":"UOEdcNvlaoIlPHyntkH1Am",
     "type":"MD",
     "hide_input_from_viewers":true,
     "hide_output_from_viewers":true
    }
   }
  },
  {
   "cell_type":"code",
   "source":[
    "m = input(\"month :\")\n",
    "d = int(input(\"day :\")) \n",
    "\n",
    "months = {'jan':31, 'fev': 28, 'mar': 31, 'apr':30 ,'may':31, 'jun':30, 'jul':31, 'aug':31, 'sep':30, 'oct':31, 'nov':30, 'dec':31}\n",
    "\n",
    "def day(m,d):\n",
    "    days = 0\n",
    "    for mois in months:\n",
    "        if mois == m:\n",
    "            days = days + d\n",
    "            break\n",
    "        else:\n",
    "            days = days + months[mois]\n",
    "    return days\n",
    "\n",
    "print(\"Day of the year: \", day(m,d))"
   ],
   "execution_count":37,
   "outputs":[
    {
     "name":"stdout",
     "text":[
      "month : jul\n",
      "day : 12\n",
      "Day of the year:  193\n"
     ],
     "output_type":"stream"
    }
   ],
   "metadata":{
    "datalore":{
     "node_id":"r8Ew2lwWSpIDxxJXsXrGyG",
     "type":"CODE",
     "hide_input_from_viewers":true,
     "hide_output_from_viewers":true
    }
   }
  },
  {
   "cell_type":"markdown",
   "source":[
    "    1.3) Index"
   ],
   "attachments":{
    
   },
   "metadata":{
    "datalore":{
     "node_id":"bPcIZ23miMi6df5hX4StlT",
     "type":"MD",
     "hide_input_from_viewers":true,
     "hide_output_from_viewers":true
    }
   }
  },
  {
   "cell_type":"code",
   "source":[
    "# Saisir le nom du fichier et la liste  des  mots\n",
    "filename=\"onteaching.txt\"\n",
    "L=input('Liste  de mots :')\n",
    "# dict est un dictionnaire contenant les mots proposés comme clés dont les valeurs sont des listes vides\n",
    "dict={}\n",
    "for k in L.split(None):\n",
    "        dict[k]=[]\n",
    "#Ouverture du  fichier en lecture seule\n",
    "f = open (filename,'r')\n",
    "        #Lecture des lignes dans le fichier ouvert\n",
    "Lines = f.readlines()\n",
    "#Cloture du fichier\n",
    "f.close\n",
    "for i in range(len(Lines)):\n",
    "        #Pour chaque mot de la ligne i\n",
    "    Li=str(Lines[i])\n",
    "#On teste l’appartenance au dictionnaire\n",
    "    for k in dict.keys():\n",
    "        #Si le mot appartient au dictionnaire on ajoute le numéro da la ligne dans la liste de la valeur correspondate\n",
    "        if k in Li:\n",
    "            dict[k].append(i+1)\n",
    "#Affichage\n",
    "for (k,v) in dict.items():\n",
    "    c=k+' '    \n",
    "    for i in v[:-1]:\n",
    "        c=c+str(i)+','\n",
    "    c+=str(v[-1])\n",
    "    print(c)"
   ],
   "execution_count":5,
   "outputs":[
    {
     "name":"stdout",
     "text":[
      "Liste  de mots : wisdom knowledge\n",
      "wisdom 5,7\n",
      "knowledge 2,22,23\n"
     ],
     "output_type":"stream"
    }
   ],
   "metadata":{
    "datalore":{
     "node_id":"WMOBPybkrEAs4aaW4uDo4U",
     "type":"CODE",
     "hide_input_from_viewers":true,
     "hide_output_from_viewers":true
    }
   }
  },
  {
   "cell_type":"markdown",
   "source":[
    "                                                    2. Manipulation élémentaire des tableaux\n",
    "    2.1) Suite numérique"
   ],
   "attachments":{
    
   },
   "metadata":{
    "datalore":{
     "node_id":"fYuIxWIi76MkX729YF74jO",
     "type":"MD",
     "hide_input_from_viewers":true,
     "hide_output_from_viewers":true
    }
   }
  },
  {
   "cell_type":"code",
   "source":[
    "import numpy as np\n",
    "import matplotlib.pyplot as plt\n",
    "\n",
    "beta = 1\n",
    "\n",
    "def f(x):\n",
    "    return 4*beta*x*(1-x)\n",
    "\n",
    "def graphe1(f, a, b, n): #on affiche la fonction f entre a et b avec n points\n",
    "    x = np.linspace(a, b, n)\n",
    "    y = f(x)\n",
    "    plt.plot(x, y, markersize=2, color='r')\n",
    "    \n",
    "\n",
    "def graphe2(f, a, b, n): #on affiche y=x entre a et b avec n points\n",
    "    x = np.linspace(a, b, n)\n",
    "    y = x\n",
    "    plt.plot(x, y, markersize=2, color='g')\n",
    "    \n",
    "\n",
    "def graphe3(f, N):\n",
    "    U = [0.92]\n",
    "    for i in range(N):\n",
    "        U.append(f(U[i]))\n",
    "    X1 = [u for u in U]\n",
    "    X2 = [u for u in U]\n",
    "    X = []\n",
    "    for i in range(len(X1)):\n",
    "        X.append(X1[i])\n",
    "        X.append(X2[i])\n",
    "    Y = X[::]\n",
    "    del[X[-1]]\n",
    "    Y[0] = 0\n",
    "    del(Y[1])\n",
    "    plt.plot(X, Y, markersize=2, color='b')\n",
    "    plt.show()\n",
    "\n",
    "\n",
    "\n",
    "\n",
    "graphe1(f, 0, 1, 40)\n",
    "graphe2(f, 0, 1, 40)\n",
    "graphe3(f, 3)"
   ],
   "execution_count":3,
   "outputs":[
    {
     "data":{
      "image\/png":"[encoded data removed]"
     },
     "metadata":{
      "image\/png":{
       
      }
     },
     "output_type":"display_data"
    }
   ],
   "metadata":{
    "datalore":{
     "node_id":"MILMQE7xkkXGPNIU2mYIxB",
     "type":"CODE",
     "hide_input_from_viewers":true,
     "hide_output_from_viewers":true
    }
   }
  },
  {
   "cell_type":"markdown",
   "source":[
    "    2.2) Morpion"
   ],
   "attachments":{
    
   },
   "metadata":{
    "datalore":{
     "node_id":"yg6Z1UVYIVq1RuGHK4wBIQ",
     "type":"MD",
     "hide_input_from_viewers":true,
     "hide_output_from_viewers":true
    }
   }
  },
  {
   "cell_type":"code",
   "source":[
    "import numpy as np\n",
    "\n",
    "def print_grid(grid):\n",
    "    for row in grid:\n",
    "        for e in row:\n",
    "            e=['_','_','_'] #on crée un tableau de 3 lignes composé de 3 elts \/\/ chaque ligne est une liste\n",
    "        print()\n",
    "\n",
    "def get_user_pick(empty_cells,grid):\n",
    "    global gUser\n",
    "    while True:\n",
    "        row = int(input('row=')) #l'utilisateur choisi une ligne et une colonne pour jouer \n",
    "        col = int(input('col='))\n",
    "        if (row,col) in empty_cells:\n",
    "            grid[row][col]='x' #on met l'elt 'x' a l'endroit choisi par le joueur\n",
    "            empty_cells.remove((row),(col)) #on supprime l'elt '_' ou le joueur a joué\n",
    "            break\n",
    "    print_grid(grid) #on print le nouveau tableau\n",
    "\n",
    "import random\n",
    "def computer_pick(empty_cells,grid):\n",
    "    while True:\n",
    "        row = random.randint(0,2) #l'ordi choisit une ligne et une colonne au hasard\n",
    "        col = random.randint(0,2)\n",
    "        if (row,col) in empty_cells:\n",
    "            grid[row][col]='0'\n",
    "            empty_cells.remove((row),(col))\n",
    "            break\n",
    "    print_grid(grid)\n",
    "\n",
    "def chek_win(grid,player):\n",
    "    gridPlayer=[]\n",
    "    for i in range 3: \n",
    "        for j in range 3:\n",
    "            gridPlayer.insert(i)\n",
    "            gridPlayer.insert(j)\n",
    "#On crée la liste gridPlayer composé des coordonéées lignes i0,i1,i2... et colonnes j0,j1,j2... joués par l'utilisateur\n",
    "# ex : le joueur joue en 01 puis en 02 alors gridPlayer=['0','1','0','2']\n",
    "    n = len(gridPlayer)\n",
    "    \n",
    "    for a in range(n):\n",
    "        for b in range (a+1,n):\n",
    "            for c in range (b+1,n):\n",
    "                A= # est une liste composé des elements de la position d'un point introduit dans la liste gridPlayer, \n",
    "                   #ex: un point en 01 alors A[i]=0 et A[j]=1 \n",
    "                B= #de même pour B et C\n",
    "                C=   \n",
    "                if np.linalg.det(np.array([A,B]),np.array([A,C]))=0: #On vérifie si les vecteurs AB et AC sont colinéaires\n",
    "\n",
    "#np.linalg.det calcul le determinant de la matrice composé des vecteurs AB et AC \/\/ on calcul pour tout les points joués et si\n",
    "#l'un est colinéaire alors il y'a un gagnant sinon il y a match nul\n",
    "                    return True\n",
    "    return False\n",
    "\n",
    "def  tictactoe():\n",
    "    empty_cells=[]\n",
    "    for i in range(3):\n",
    "        for j in range(3):\n",
    "            empty_cells.append((i,j))\n",
    "    g=[['_','_','_'],['_','_','_'],['_','_','_']]\n",
    "    while len(empty_cells)>0:\n",
    "        print(\"−\"∗50)\n",
    "        print(\"User : \")\n",
    "        get_user_pick(empty_cells,g)\n",
    "        if check_win(g,\"x\"):\n",
    "            print(\"User wins !\")\n",
    "            return\n",
    "        print(\"−\"∗50)\n",
    "        print(\"Computer : \")\n",
    "        computer_pick(empty_cells,g)\n",
    "        if check_win(g,\"o\"):\n",
    "            print(\"Computer wins !\")\n",
    "            return\n",
    "#start the game"
   ],
   "execution_count":13,
   "outputs":[
    
   ],
   "metadata":{
    "datalore":{
     "node_id":"kTNfC2UnXCyFqMNwekBoy3",
     "type":"CODE",
     "hide_input_from_viewers":true,
     "hide_output_from_viewers":true
    }
   }
  },
  {
   "cell_type":"markdown",
   "source":[
    "                                                            3. Récursivité\n",
    "    3.1) PGCD"
   ],
   "attachments":{
    
   },
   "metadata":{
    "datalore":{
     "node_id":"BPn3Kqbph0iaTOItMAuTru",
     "type":"MD",
     "hide_input_from_viewers":true,
     "hide_output_from_viewers":true
    }
   }
  },
  {
   "cell_type":"code",
   "source":[
    "def pgcd(a, b):\n",
    "    if b==0:\n",
    "        return a\n",
    "    else:\n",
    "        return pgcd(b, a%b)\n",
    "    \n",
    "print(pgcd(102, 68))"
   ],
   "execution_count":74,
   "outputs":[
    {
     "name":"stdout",
     "text":[
      "34\n"
     ],
     "output_type":"stream"
    }
   ],
   "metadata":{
    "datalore":{
     "node_id":"A6LyuixvqWLu1U1ZRp3Q71",
     "type":"CODE",
     "hide_input_from_viewers":true,
     "hide_output_from_viewers":true
    }
   }
  },
  {
   "cell_type":"markdown",
   "source":[
    "    3.2) Inclusion"
   ],
   "attachments":{
    
   },
   "metadata":{
    "datalore":{
     "node_id":"pzxCoEqMYhOrX42lU7V40h",
     "type":"MD",
     "hide_input_from_viewers":true,
     "hide_output_from_viewers":true
    }
   }
  },
  {
   "cell_type":"code",
   "source":[
    "st1 = input(\"st1 = \")\n",
    "st2 = input(\"st2 = \")\n",
    "\n",
    "def issubset(st1, st2):\n",
    "    if len(st1) == 0:\n",
    "        return True\n",
    "    else:\n",
    "        if st1[0] in st2:\n",
    "            return issubset(st1[1:], st2)\n",
    "        else:\n",
    "            return False\n",
    "\n",
    "print(issubset(st1, st2))"
   ],
   "execution_count":8,
   "outputs":[
    {
     "name":"stdout",
     "text":[
      "st1 =  aer\n",
      "st2 =  aertui\n",
      "True\n"
     ],
     "output_type":"stream"
    }
   ],
   "metadata":{
    "datalore":{
     "node_id":"hFqgVRovvL2h0ojE3iehaj",
     "type":"CODE",
     "hide_input_from_viewers":true,
     "hide_output_from_viewers":true
    }
   }
  },
  {
   "cell_type":"markdown",
   "source":[
    "    3.3) Palindrome en version récursive"
   ],
   "attachments":{
    
   },
   "metadata":{
    "datalore":{
     "node_id":"iwAzTFLbNIeCSXtSoanGcC",
     "type":"MD",
     "hide_input_from_viewers":true,
     "hide_output_from_viewers":true
    }
   }
  },
  {
   "cell_type":"code",
   "source":[
    "def est_palindrome_recursive(mot):\n",
    "    if len(mot)<2:\n",
    "        return True\n",
    "    if mot[0]!=mot[-1]:\n",
    "        return False\n",
    "    return est_palindrome_recursive(mot[1:-1])\n",
    "print(est_palindrome_recursive('laval'))\n",
    "        "
   ],
   "execution_count":15,
   "outputs":[
    {
     "name":"stdout",
     "text":[
      "True\n"
     ],
     "output_type":"stream"
    }
   ],
   "metadata":{
    "datalore":{
     "node_id":"Ta2GRoKxuI3MhbokGVFZNZ",
     "type":"CODE",
     "hide_input_from_viewers":true,
     "hide_output_from_viewers":true
    }
   }
  }
 ],
 "metadata":{
  "kernelspec":{
   "display_name":"Python",
   "language":"python",
   "name":"python"
  },
  "datalore":{
   "computation_mode":"JUPYTER",
   "package_manager":"pip",
   "base_environment":"default",
   "packages":[
    
   ],
   "report_row_ids":[
    
   ],
   "version":2
  }
 },
 "nbformat":4,
 "nbformat_minor":4
}