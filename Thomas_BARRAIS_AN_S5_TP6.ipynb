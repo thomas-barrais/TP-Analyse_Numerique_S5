{
 "cells":[
  {
   "cell_type":"markdown",
   "source":[
    "<h1><p style=\"text-decoration: underline;\"> Exercice 1 : Diviseurs <\/p><\/h1>\n",
    "<h2><li> Diviseurs propres de N <\/li><\/h2>"
   ],
   "attachments":{
    
   },
   "metadata":{
    "datalore":{
     "node_id":"wXNQlsXZV9uDxDPoUvoSDh",
     "type":"MD",
     "hide_input_from_viewers":true,
     "hide_output_from_viewers":true
    }
   }
  },
  {
   "cell_type":"code",
   "source":[
    "def Diviseurs (n):\n",
    "    diviseurs =[]\n",
    "    i=2\n",
    "    if n >= 2 :\n",
    "        while (i*i<n):\n",
    "            if n%i == 0:\n",
    "                diviseurs.append(i)\n",
    "            i+=1\n",
    "        return (diviseurs)\n",
    "    else :\n",
    "        print(n, \"n'est pas assez grand\")\n",
    "\n",
    "n=24\n",
    "L = Diviseurs(n)\n",
    "print(\"Diviseurs propres de {}:\\n {}\".format(n, L))\n",
    "\n",
    "#Les diviseurs supérieurs à sqrt(n) peuvent être obtenus à partir des diviseurs propres\n",
    "#On se limite a sqrt(n) pour passer d'une complexité en O(n) à O(sqrt(n)) !"
   ],
   "execution_count":3,
   "outputs":[
    {
     "name":"stdout",
     "text":[
      "Diviseurs propres de 24:\n",
      " [2, 3, 4]\n"
     ],
     "output_type":"stream"
    }
   ],
   "metadata":{
    "datalore":{
     "node_id":"wAfDKDmy5s2iZPPYbbe74P",
     "type":"CODE",
     "hide_input_from_viewers":true,
     "hide_output_from_viewers":true
    }
   }
  },
  {
   "cell_type":"markdown",
   "source":[
    "<h2><li> N est-il premier ?<\/li><\/h2>"
   ],
   "attachments":{
    
   },
   "metadata":{
    "datalore":{
     "node_id":"oINe5A6oT2WIiXqWXpBA0X",
     "type":"MD",
     "hide_input_from_viewers":true,
     "hide_output_from_viewers":true
    }
   }
  },
  {
   "cell_type":"code",
   "source":[
    "import math as m\n",
    "\n",
    "def isPrime(n):\n",
    "    if n >= 2:\n",
    "        for i in range(2, int(m.sqrt(n))+1):\n",
    "            if n%i == 0:\n",
    "                return False\n",
    "            else :\n",
    "                return True\n",
    "    else :\n",
    "        return False\n",
    "\n",
    "n=24\n",
    "print(n, \"est premier ?\", isPrime(n))"
   ],
   "execution_count":4,
   "outputs":[
    {
     "name":"stdout",
     "text":[
      "24 est premier ? False\n"
     ],
     "output_type":"stream"
    }
   ],
   "metadata":{
    "datalore":{
     "node_id":"lr4wItccCiW0xxk3VzqGNQ",
     "type":"CODE",
     "hide_input_from_viewers":true,
     "hide_output_from_viewers":true
    }
   }
  },
  {
   "cell_type":"markdown",
   "source":[
    "<h1><p style=\"text-decoration: underline;\"> Exercice 2 : Nombres premiers <\/p><\/h1>\n",
    "<h2><li> Les nombres premiers inférieurs à N<\/li><\/h2>"
   ],
   "attachments":{
    
   },
   "metadata":{
    "datalore":{
     "node_id":"N8mHVetJeeTeMgG7jlHWTF",
     "type":"MD",
     "hide_input_from_viewers":true,
     "hide_output_from_viewers":true
    }
   }
  },
  {
   "cell_type":"code",
   "source":[
    "#Ce programme affiche tout les nombres premiers inférieurs à un consigne n\n",
    "def nombresPremiers(n):\n",
    "    P=[] #Initialisation de la liste\n",
    "    for i in range(2, n):\n",
    "        estPremier = True #booléen initialement vraie\n",
    "        for p in P: \n",
    "            if p * p > i: #on se limite aux valeurs de p<sqrt(i) comme à l'exo 1\n",
    "                break\n",
    "            if i%p==0: #i n'est pas premier donc le booléen estPremier prend la valeur False\n",
    "                estPremier = False\n",
    "                break\n",
    "        if estPremier: #si i est premier on l'ajoute à la liste P \n",
    "            P.append(i)\n",
    "    return P\n",
    "\n",
    "print(nombresPremiers(59))"
   ],
   "execution_count":12,
   "outputs":[
    {
     "name":"stdout",
     "text":[
      "[2, 3, 5, 7, 11, 13, 17, 19, 23, 29, 31, 37, 41, 43, 47, 53]\n"
     ],
     "output_type":"stream"
    }
   ],
   "metadata":{
    "datalore":{
     "node_id":"FTLvolRzN5pO5VgoJ9KVQo",
     "type":"CODE",
     "hide_input_from_viewers":true,
     "hide_output_from_viewers":true
    }
   }
  },
  {
   "cell_type":"markdown",
   "source":[
    "<h2><li> Affichage du N-ième nombre premier <\/h2><\/li>"
   ],
   "attachments":{
    
   },
   "metadata":{
    "datalore":{
     "node_id":"p0petmSI9cPERYrOvDCExv",
     "type":"MD",
     "hide_input_from_viewers":true,
     "hide_output_from_viewers":true
    }
   }
  },
  {
   "cell_type":"code",
   "source":[
    "from math import sqrt\n",
    "\n",
    "def isprime_ameliore(number): #amélioration de isPrime\n",
    "    if number == 2: return True #2 premier\n",
    "    if number < 2 or number % 2 == 0: return False #1 non premier, Tout nombre pair n'est pas premier(limite le nombre d'opérations)\n",
    "    return not any(number % i == 0 for i in range(3, int(sqrt(number)) + 1, 2)) #renvoie booléen de 3 à sqrt(number) de 2 en 2\n",
    "\n",
    "def ithprime(n):\n",
    "    test_premier = 2\n",
    "    ordre_premier = 1 #Initialisation : le chiffre 2 est le 1er nombre premier\n",
    "    while (ordre_premier < n):\n",
    "        test_premier += 1  #on parcourt tout les nombres inférieur à la consigne (on s'arrête quand on a obtenu le ième premier\n",
    "        if (isprime_ameliore(test_premier)):\n",
    "            ordre_premier += 1 #Si le nombre est premier on itère la valeur pour obtenir l'ordre du nombre premier\n",
    "    return(test_premier) #on retourne l'ordre du nième nombre premier\n",
    "\n",
    "#Programme long, pourrait être encore améliorer, l'utilisation de sqrt n'est pas optimale\n",
    "\n",
    "k=20000\n",
    "p=ithprime(k)\n",
    "print(\"Le {} ième nombre premier est {}\".format(k, p))"
   ],
   "execution_count":10,
   "outputs":[
    {
     "name":"stdout",
     "text":[
      "Le 20000 ième nombre premier est 224737\n"
     ],
     "output_type":"stream"
    }
   ],
   "metadata":{
    "datalore":{
     "node_id":"bveKcuf6pqwN4QCp1GAhDX",
     "type":"CODE",
     "hide_input_from_viewers":true,
     "hide_output_from_viewers":true
    }
   }
  },
  {
   "cell_type":"markdown",
   "source":[
    "<h1><p style=\"text-decoration: underline;\"> Exercice 3 : Numération<\/p><\/h1>"
   ],
   "attachments":{
    
   },
   "metadata":{
    "datalore":{
     "node_id":"ED7RPbq4fiexPk9UOmjOMk",
     "type":"MD",
     "hide_input_from_viewers":true,
     "hide_output_from_viewers":true
    }
   }
  },
  {
   "cell_type":"code",
   "source":[
    "def numeration(n, b):\n",
    "    B=[]\n",
    "    while n!=0:\n",
    "        B.append(n%b)\n",
    "        n=n\/\/b\n",
    "    return B\n",
    "numeration(495, 16)\n",
    "#15=F,14=E (495)10 == (1EF)16"
   ],
   "execution_count":26,
   "outputs":[
    {
     "data":{
      "text\/plain":[
       "[15, 14, 1]"
      ]
     },
     "metadata":{
      
     },
     "output_type":"display_data"
    }
   ],
   "metadata":{
    "datalore":{
     "node_id":"826owUOORvEimPH1VXNkQL",
     "type":"CODE",
     "hide_input_from_viewers":true,
     "hide_output_from_viewers":true
    }
   }
  },
  {
   "cell_type":"markdown",
   "source":[
    "<h1><p style=\"text-decoration: underline;\"> Exercice 4 : Puissance <\/p><\/h1>\n",
    "<h2><li>Puissance<\/li><\/h2>"
   ],
   "attachments":{
    
   },
   "metadata":{
    "datalore":{
     "node_id":"PKTPOPApb3UxsiaiV8VwMS",
     "type":"MD",
     "hide_input_from_viewers":true,
     "hide_output_from_viewers":true
    }
   }
  },
  {
   "cell_type":"code",
   "source":[
    "def puissance(x, n):\n",
    "    d = numeration(n, 2)\n",
    "    z = x\n",
    "    p = 1\n",
    "    for k in d:\n",
    "        if k == 1:\n",
    "            p=x*puissance(x, n-1)\n",
    "    return p\n",
    "puissance(4, 8)\n",
    "#Fonction récursive longue pour des grands nombres, on choisit une autre méthode pour puissancemodulo\n",
    "#car on utilisera des très grands nombres dans la partie chiffrement"
   ],
   "execution_count":25,
   "outputs":[
    {
     "data":{
      "text\/plain":[
       "65536"
      ]
     },
     "metadata":{
      
     },
     "output_type":"display_data"
    }
   ],
   "metadata":{
    "datalore":{
     "node_id":"Ewr2K4pE2opajxWL1HUll4",
     "type":"CODE",
     "hide_input_from_viewers":true,
     "hide_output_from_viewers":true
    }
   }
  },
  {
   "cell_type":"markdown",
   "source":[
    "<h2><li>Puissance Modulo<\/li><\/h2>"
   ],
   "attachments":{
    
   },
   "metadata":{
    "datalore":{
     "node_id":"2bBwLnnTEVJ7XetKzGajmB",
     "type":"MD",
     "hide_input_from_viewers":true,
     "hide_output_from_viewers":true
    }
   }
  },
  {
   "cell_type":"code",
   "source":[
    "def puissancemodulo(x, n, m):\n",
    "    d = numeration(n, 2)\n",
    "    z = x % m\n",
    "    p = 1\n",
    "    for k in d:\n",
    "        if k == 1:\n",
    "            p= p*z %m\n",
    "        z= z*z %m\n",
    "    return p\n",
    "\n",
    "def puissanceModulo_pow(x, n, m):\n",
    "    response=pow(x, n, m) \n",
    "    return(response)\n",
    "\n",
    "#utilisation de la méthode pow() pour comparer le résultat obtenu avec la fonction puissancemodulo\n",
    "\n",
    "x=11050957; n=19; m=7919*8831\n",
    "p=puissanceModulo_pow(x, n, m)\n",
    "print(\"méthode pow : {}^{} modulo {} = {}\".format(x, n, m, p))\n",
    "h=puissancemodulo(x, n, m)\n",
    "print(\"fonction puissancemodulo : {}^{} modulo {} = {}\".format(x, n, m, h))"
   ],
   "execution_count":23,
   "outputs":[
    {
     "name":"stdout",
     "text":[
      "méthode pow : 11050957^19 modulo 69932689 = 53816717\n",
      "fonction puissancemodulo : 11050957^19 modulo 69932689 = 53816717\n"
     ],
     "output_type":"stream"
    }
   ],
   "metadata":{
    "datalore":{
     "node_id":"bQNg259tCpda3Rs6OKN6UM",
     "type":"CODE",
     "hide_input_from_viewers":true,
     "hide_output_from_viewers":true
    }
   }
  },
  {
   "cell_type":"markdown",
   "source":[
    "<h1><p style=\"text-decoration: underline;\"> Exercice 5 : Numérisation d'un texte <\/p><\/h1>\n",
    "<h2><li> Un unique caractère ou entier<\/li><\/h2>"
   ],
   "attachments":{
    
   },
   "metadata":{
    "datalore":{
     "node_id":"ccVoGPBXRdcQeOxc9qS9zA",
     "type":"MD",
     "hide_input_from_viewers":true,
     "hide_output_from_viewers":true
    }
   }
  },
  {
   "cell_type":"code",
   "source":[
    "alphabet=\" abcdefghijklmnopqrstuvwxyz\"\n",
    "\n",
    "def int2char(n):\n",
    "    return alphabet[n]\n",
    "n=3\n",
    "print(\"{} => {}\".format(n, int2char(n)))\n",
    "\n",
    "def char2int(n):\n",
    "    return alphabet.index(n)\n",
    "m='m'\n",
    "print(\"{} => {}\".format(m, char2int(m)))"
   ],
   "execution_count":28,
   "outputs":[
    {
     "name":"stdout",
     "text":[
      "3 => c\n",
      "m => 13\n"
     ],
     "output_type":"stream"
    }
   ],
   "metadata":{
    "datalore":{
     "node_id":"sUg8xjvMhx2IFw1ACnMDel",
     "type":"CODE",
     "hide_input_from_viewers":true,
     "hide_output_from_viewers":true
    }
   }
  },
  {
   "cell_type":"markdown",
   "source":[
    "<h2><li> Un texte ou un nombre<\/li><\/h2>"
   ],
   "attachments":{
    
   },
   "metadata":{
    "datalore":{
     "node_id":"uKtxoXNHvg4C0dadGcqtfA",
     "type":"MD",
     "hide_input_from_viewers":true,
     "hide_output_from_viewers":true
    }
   }
  },
  {
   "cell_type":"code",
   "source":[
    "def text2int(txt):\n",
    "    alphabet = \" abcdefghijklmnopqrstuvwxyz\"\n",
    "    L=[]\n",
    "    s=0\n",
    "    for i in range(0, len(txt)):\n",
    "        for j in range(len(alphabet)):\n",
    "            if txt[i] == alphabet[j]:\n",
    "                L.append(char2int(txt[i]))\n",
    "    for p in range(len(L)):\n",
    "        s+=L[p]*puissance(27, p) #nombres petits donc on peut garder la fonction récursive\n",
    "    return(s)\n",
    "\n",
    "def int2text(N):\n",
    "    S=numeration(N, 27)\n",
    "    p=\"\"\n",
    "    for i in range(len(S)):\n",
    "        p+= int2char(S[i])\n",
    "    return(p)\n",
    "\n",
    "txt = \"vive python\"\n",
    "l = text2int(txt)\n",
    "print(\"{} => {}\".format(txt, l))\n",
    "print(\"{} => {}\".format(l, int2text(l)))"
   ],
   "execution_count":27,
   "outputs":[
    {
     "name":"stdout",
     "text":[
      "vive python => 2999338370165254\n",
      "2999338370165254 => vive python\n"
     ],
     "output_type":"stream"
    }
   ],
   "metadata":{
    "datalore":{
     "node_id":"psHjXWeONwc1vZ0kzbt6TK",
     "type":"CODE",
     "hide_input_from_viewers":true,
     "hide_output_from_viewers":true
    }
   }
  },
  {
   "cell_type":"markdown",
   "source":[
    "<h1><p style=\"text-decoration: underline;\"> Exercice 6 : Cryptage RSA <\/p><\/h1>"
   ],
   "attachments":{
    
   },
   "metadata":{
    "datalore":{
     "node_id":"IGwdOw5hzPExZTyN5nAmM9",
     "type":"MD",
     "hide_input_from_viewers":true,
     "hide_output_from_viewers":true
    }
   }
  },
  {
   "cell_type":"code",
   "source":[
    "def cryptage(M, e, N):\n",
    "    L=[puissancemodulo(M, e, N)]\n",
    "    return(L)\n",
    "\n",
    "def decryptage(Mp, d, N):\n",
    "    res = Mp[0]\n",
    "    L=puissancemodulo(res, d, N)\n",
    "    return(L)\n",
    "\n",
    "p = ithprime(1000); p2=ithprime(100) #test avec une deuxième valeur de p et q plus faible\n",
    "q = ithprime(1100); q2=ithprime(200)\n",
    "N=p*q ; N2= p2 * q2\n",
    "K=3 * (p-1) * (q-1) +1 ; K2 = 3 * (p2-1) * (q2-1) +1\n",
    "D=Diviseurs(K) ; D2 = Diviseurs(K2)\n",
    "e=D[0] ; e2 = D2[0]\n",
    "d=K\/\/e ; d2= K2 \/\/ e2\n",
    "\n",
    "print(\"message = salut\")\n",
    "M=text2int(\"salut\")\n",
    "print(\"M=\", M)\n",
    "Mp = cryptage(M, e, N)\n",
    "Mp2 = cryptage(M, e2, N)\n",
    "print(\"M'=\", Mp, \"\/\/\", \"M'2=\", Mp2)\n",
    "Mpp = decryptage(Mp, d, N)\n",
    "Mpp2 = decryptage(Mp2, d2, N)\n",
    "print(\"M''=\", Mpp, \"\/\/\", \"M''2=\", Mpp2)\n",
    "print(\"Message décrypté=\", int2text(Mpp), \"\/\/\", \"Message décrypté2=\", int2text(Mpp2), \"'p2 et q2 sont trop petit'\")\n",
    "\n",
    "#pour que le chiffrement fonctionne, il faut que p et q soient suffisament grand\n",
    "#si le texte est trop grand, le nombre correspondant a la chaine de caractère sera grand donc,\n",
    "#la fonction puissancemodulo ne sera pas assez précise"
   ],
   "execution_count":21,
   "outputs":[
    {
     "name":"stdout",
     "text":[
      "message = salut\n",
      "M= 11050957\n",
      "M'= [53816717] \/\/ M'2= [5689942]\n",
      "M''= 11050957 \/\/ M''2= 67778556\n",
      "Message décrypté= salut \/\/ Message décrypté2= xrmnsd 'p2 et q2 sont trop petit'\n"
     ],
     "output_type":"stream"
    }
   ],
   "metadata":{
    "datalore":{
     "node_id":"EpBA0jgpOoTj1zzypEfaFy",
     "type":"CODE",
     "hide_input_from_viewers":true,
     "hide_output_from_viewers":true
    }
   }
  },
  {
   "cell_type":"markdown",
   "source":[
    "<h1><p style=\"text-decoration: underline;\"> Exercice 7 : Long message <\/p><\/h1>"
   ],
   "attachments":{
    
   },
   "metadata":{
    "datalore":{
     "node_id":"YBg49RyKTpKuK16Pyy6DiH",
     "type":"MD",
     "hide_input_from_viewers":true,
     "hide_output_from_viewers":true
    }
   }
  },
  {
   "cell_type":"code",
   "source":[
    "p = ithprime(100000)\n",
    "q = ithprime(200000)\n",
    "N= p * q\n",
    "K=3 * (p-1) * (q-1) +1\n",
    "D=Diviseurs(K)\n",
    "e=D[0]\n",
    "d=K\/\/e\n",
    "print(\"p=\", p, \"\/\/\", \"q=\", q, \"\/\/\", \"N=\", N, \"\/\/\", \"e=\", e, \"\/\/\", \"d=\", d)\n",
    "\n",
    "#programme assez long donc calculé une seule fois pour la partie long message\n",
    "#On recopie les valeurs de e, d et N"
   ],
   "execution_count":22,
   "outputs":[
    {
     "name":"stdout",
     "text":[
      "p= 1299709 \/\/ q= 2750159 \/\/ N= 3574406403731 \/\/ e= 13 \/\/ d= 824862081661\n"
     ],
     "output_type":"stream"
    }
   ],
   "metadata":{
    "datalore":{
     "node_id":"UCcv1gxZfc6BTTKjiGCHLF",
     "type":"CODE",
     "hide_input_from_viewers":true,
     "hide_output_from_viewers":true
    }
   }
  },
  {
   "cell_type":"code",
   "source":[
    "def cryptage(M, alpha, N):\n",
    "    paquets=numeration(M, N) #paquets = M en base N sous forme d'une liste\n",
    "    paquetsPrim = [puissancemodulo(i, alpha, N) for i in paquets] #affiche i^e modulo N avec i les valeurs dans paquet\n",
    "    return paquetsPrim \n",
    "\n",
    "def decryptage(Mp, beta, N):\n",
    "    paquetsPrimPrim = [puissancemodulo(i, beta, N) for i in Mp] #affiche i^d modulo N avec i les valeurs dans la liste crypté \n",
    "    s=0\n",
    "    k=0 #Initialisation\n",
    "    for i in paquetsPrimPrim: #on parcourt la liste paquetsPrimPrim\n",
    "        s+=i*N**k #représentation en base N du nombre  \n",
    "        k+=1 \n",
    "    return s\n",
    "\n",
    "e=13\n",
    "N=3574406403731\n",
    "d=824862081661\n",
    "\n",
    "print(\"message = bonjour le monde\")\n",
    "M=text2int(\"bonjour le monde\")\n",
    "print(\"M= \", M)\n",
    "Mp=cryptage(M, e, N)\n",
    "print(\"M'= \", Mp)\n",
    "Mpp=decryptage(Mp, d, N)\n",
    "print(\"M''= \", Mpp)\n",
    "print(int2text(Mpp))"
   ],
   "execution_count":24,
   "outputs":[
    {
     "name":"stdout",
     "text":[
      "message = bonjour le monde\n",
      "M=  15268298990263728744017\n",
      "M'=  [2631248779732, 2600929107437]\n",
      "M''=  15268298990263728744017\n",
      "bonjour le monde\n"
     ],
     "output_type":"stream"
    }
   ],
   "metadata":{
    "datalore":{
     "node_id":"ghMZeoDAzPQ0ZDtyYjri97",
     "type":"CODE",
     "hide_input_from_viewers":true,
     "hide_output_from_viewers":true
    }
   }
  },
  {
   "cell_type":"markdown",
   "source":[
    "<h1><p style=\"text-decoration: underline;\"> Exercice 8 : Casser le code RSA <\/p><\/h1>"
   ],
   "attachments":{
    
   },
   "metadata":{
    "datalore":{
     "node_id":"mJqvdXHL7AhARUacxLX2fc",
     "type":"MD",
     "hide_input_from_viewers":true,
     "hide_output_from_viewers":true
    }
   }
  },
  {
   "cell_type":"code",
   "source":[
    "e = 13\n",
    "N = 3574406403731\n",
    "a = Diviseurs(N) #p et q sont des diviseurs N\n",
    "p = a[0] #On choisit p le plus petit diviseur propre de N\n",
    "q = N \/\/ p #on calcul q\n",
    "k = 3*(p-1)*(q-1) + 1\n",
    "d = k \/\/ e\n",
    "print(\"p=\", p, \"\/\/\", \"q=\", q, \"\/\/\", \"k=\", k, \"\/\/\", \"d=\", d)"
   ],
   "execution_count":7,
   "outputs":[
    {
     "name":"stdout",
     "text":[
      "p= 1299709 \/\/ q= 2750159 \/\/ k= 10723207061593 \/\/ d= 824862081661\n"
     ],
     "output_type":"stream"
    }
   ],
   "metadata":{
    "datalore":{
     "node_id":"VO4dgJtECeaT42XRkXyKvB",
     "type":"CODE",
     "hide_input_from_viewers":true,
     "hide_output_from_viewers":true
    }
   }
  }
 ],
 "metadata":{
  "kernelspec":{
   "display_name":"Python",
   "language":"python",
   "name":"python"
  },
  "datalore":{
   "computation_mode":"JUPYTER",
   "package_manager":"pip",
   "base_environment":"default",
   "packages":[
    
   ],
   "report_row_ids":[
    
   ],
   "version":2
  }
 },
 "nbformat":4,
 "nbformat_minor":4
}